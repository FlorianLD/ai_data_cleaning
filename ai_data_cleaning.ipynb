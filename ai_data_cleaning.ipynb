{
 "cells": [
  {
   "cell_type": "markdown",
   "metadata": {},
   "source": [
    "### Importing dependencies"
   ]
  },
  {
   "cell_type": "code",
   "execution_count": 3,
   "metadata": {},
   "outputs": [],
   "source": [
    "import os\n",
    "from enum import Enum\n",
    "from typing import List\n",
    "\n",
    "# Importing instructor: patches the OpenAI completion chat API to add a \"response_model\" parameter\n",
    "import instructor\n",
    "\n",
    "import pandas as pd\n",
    "from openai import OpenAI\n",
    "from pydantic import BaseModel, Field\n",
    "from IPython.core.interactiveshell import InteractiveShell\n",
    "\n",
    "# Enable the display of multiple dataframes in outputs when running code\n",
    "InteractiveShell.ast_node_interactivity = \"all\""
   ]
  },
  {
   "cell_type": "markdown",
   "metadata": {},
   "source": [
    "### Loading file"
   ]
  },
  {
   "cell_type": "code",
   "execution_count": 4,
   "metadata": {},
   "outputs": [
    {
     "data": {
      "text/html": [
       "<div>\n",
       "<style scoped>\n",
       "    .dataframe tbody tr th:only-of-type {\n",
       "        vertical-align: middle;\n",
       "    }\n",
       "\n",
       "    .dataframe tbody tr th {\n",
       "        vertical-align: top;\n",
       "    }\n",
       "\n",
       "    .dataframe thead th {\n",
       "        text-align: right;\n",
       "    }\n",
       "</style>\n",
       "<table border=\"1\" class=\"dataframe\">\n",
       "  <thead>\n",
       "    <tr style=\"text-align: right;\">\n",
       "      <th></th>\n",
       "      <th>customers</th>\n",
       "    </tr>\n",
       "  </thead>\n",
       "  <tbody>\n",
       "    <tr>\n",
       "      <th>0</th>\n",
       "      <td>SOSA Ernesto current_age: \"24\" type_of_account...</td>\n",
       "    </tr>\n",
       "    <tr>\n",
       "      <th>1</th>\n",
       "      <td>Maria Law non-premium Seattle 42 years old</td>\n",
       "    </tr>\n",
       "    <tr>\n",
       "      <th>2</th>\n",
       "      <td>premium Han K. Goodwill 68 premium Miami</td>\n",
       "    </tr>\n",
       "    <tr>\n",
       "      <th>3</th>\n",
       "      <td>Santa Monica Hilary Powell non-premium 52 yo</td>\n",
       "    </tr>\n",
       "    <tr>\n",
       "      <th>4</th>\n",
       "      <td>Theodora Gilmore premium_account:yes 36Y.O PARIS</td>\n",
       "    </tr>\n",
       "  </tbody>\n",
       "</table>\n",
       "</div>"
      ],
      "text/plain": [
       "                                           customers\n",
       "0  SOSA Ernesto current_age: \"24\" type_of_account...\n",
       "1         Maria Law non-premium Seattle 42 years old\n",
       "2           premium Han K. Goodwill 68 premium Miami\n",
       "3       Santa Monica Hilary Powell non-premium 52 yo\n",
       "4   Theodora Gilmore premium_account:yes 36Y.O PARIS"
      ]
     },
     "execution_count": 4,
     "metadata": {},
     "output_type": "execute_result"
    },
    {
     "data": {
      "text/plain": [
       "['SOSA Ernesto current_age: \"24\" type_of_account: non_premium current_city: SAN JOSE',\n",
       " 'Maria Law non-premium Seattle 42 years old',\n",
       " 'premium Han K. Goodwill 68 premium Miami',\n",
       " 'Santa Monica Hilary Powell non-premium 52 yo',\n",
       " 'Theodora Gilmore premium_account:yes 36Y.O PARIS']"
      ]
     },
     "execution_count": 4,
     "metadata": {},
     "output_type": "execute_result"
    }
   ],
   "source": [
    "csv_file = pd.read_csv(f\"D:/Bureau/progstuff/ai_data_cleaning/customers.csv\")\n",
    "customers = list(csv_file[\"customers\"])\n",
    "\n",
    "csv_file\n",
    "customers"
   ]
  },
  {
   "cell_type": "markdown",
   "metadata": {},
   "source": [
    "### Building model\n",
    "\n",
    "Model is passed in the `response_model` parameter in the completion method"
   ]
  },
  {
   "cell_type": "code",
   "execution_count": 5,
   "metadata": {},
   "outputs": [],
   "source": [
    "class Premium(Enum):\n",
    "    \"\"\"Defines the account type of the customer, either premium or non-premium\"\"\"\n",
    "    PREMIUM = 1\n",
    "    NON_PREMIUM = 0\n",
    "\n",
    "class Customer(BaseModel):\n",
    "    \"\"\"Represents a customer, including their first name, last name, age, city, and account type\"\"\"\n",
    "    first_name: str = Field(..., description=\"The first name of the customer\")\n",
    "    last_name: str = Field(..., description=\"The last name of the customer\")\n",
    "    age: int = Field(..., description=\"The age of the customer\")\n",
    "    city: str = Field(... , description=\"The city where the customer lives\")\n",
    "    premium: Premium = Field(..., description=\"Account type, either premium or non-premium\")\n",
    "\n",
    "class CustomerList(BaseModel):\n",
    "    \"\"\"A list of customers\"\"\"\n",
    "    customers: List[Customer] = Field(..., description=\"A list of customers\")"
   ]
  },
  {
   "cell_type": "markdown",
   "metadata": {},
   "source": [
    "### Building function"
   ]
  },
  {
   "cell_type": "code",
   "execution_count": 6,
   "metadata": {},
   "outputs": [],
   "source": [
    "instructions = [\n",
    "    \"All values must be standardized by having a capital letter for their first letter and non-capital letters for the rest\",\n",
    "    \"Exclude middle name initials\"\n",
    "]\n",
    "\n",
    "def cleaning(file) -> CustomerList:\n",
    "    response = instructor.from_openai(OpenAI()).chat.completions.create(\n",
    "        model=\"gpt-4-turbo\",\n",
    "        response_model=CustomerList,\n",
    "        messages=[\n",
    "            {\n",
    "                \"role\": \"user\",\n",
    "                \"content\": f\"Extract information from {file} while following these instructions: {instructions}\",\n",
    "            },\n",
    "            \n",
    "        ]\n",
    "    )\n",
    "    return response"
   ]
  },
  {
   "cell_type": "markdown",
   "metadata": {},
   "source": [
    "### Running function"
   ]
  },
  {
   "cell_type": "code",
   "execution_count": 7,
   "metadata": {},
   "outputs": [
    {
     "data": {
      "text/html": [
       "<div>\n",
       "<style scoped>\n",
       "    .dataframe tbody tr th:only-of-type {\n",
       "        vertical-align: middle;\n",
       "    }\n",
       "\n",
       "    .dataframe tbody tr th {\n",
       "        vertical-align: top;\n",
       "    }\n",
       "\n",
       "    .dataframe thead th {\n",
       "        text-align: right;\n",
       "    }\n",
       "</style>\n",
       "<table border=\"1\" class=\"dataframe\">\n",
       "  <thead>\n",
       "    <tr style=\"text-align: right;\">\n",
       "      <th></th>\n",
       "      <th>first_name</th>\n",
       "      <th>last_name</th>\n",
       "      <th>age</th>\n",
       "      <th>city</th>\n",
       "      <th>premium</th>\n",
       "    </tr>\n",
       "  </thead>\n",
       "  <tbody>\n",
       "    <tr>\n",
       "      <th>0</th>\n",
       "      <td>Ernesto</td>\n",
       "      <td>Sosa</td>\n",
       "      <td>24</td>\n",
       "      <td>San Jose</td>\n",
       "      <td>0</td>\n",
       "    </tr>\n",
       "    <tr>\n",
       "      <th>1</th>\n",
       "      <td>Maria</td>\n",
       "      <td>Law</td>\n",
       "      <td>42</td>\n",
       "      <td>Seattle</td>\n",
       "      <td>0</td>\n",
       "    </tr>\n",
       "    <tr>\n",
       "      <th>2</th>\n",
       "      <td>Han</td>\n",
       "      <td>Goodwill</td>\n",
       "      <td>68</td>\n",
       "      <td>Miami</td>\n",
       "      <td>1</td>\n",
       "    </tr>\n",
       "    <tr>\n",
       "      <th>3</th>\n",
       "      <td>Hilary</td>\n",
       "      <td>Powell</td>\n",
       "      <td>52</td>\n",
       "      <td>Santa Monica</td>\n",
       "      <td>0</td>\n",
       "    </tr>\n",
       "    <tr>\n",
       "      <th>4</th>\n",
       "      <td>Theodora</td>\n",
       "      <td>Gilmore</td>\n",
       "      <td>36</td>\n",
       "      <td>Paris</td>\n",
       "      <td>1</td>\n",
       "    </tr>\n",
       "  </tbody>\n",
       "</table>\n",
       "</div>"
      ],
      "text/plain": [
       "  first_name last_name  age          city  premium\n",
       "0    Ernesto      Sosa   24      San Jose        0\n",
       "1      Maria       Law   42       Seattle        0\n",
       "2        Han  Goodwill   68         Miami        1\n",
       "3     Hilary    Powell   52  Santa Monica        0\n",
       "4   Theodora   Gilmore   36         Paris        1"
      ]
     },
     "execution_count": 7,
     "metadata": {},
     "output_type": "execute_result"
    }
   ],
   "source": [
    "result = cleaning(customers)\n",
    "\n",
    "output_df = pd.DataFrame([{\n",
    "    \"first_name\": customer.first_name,\n",
    "    \"last_name\": customer.last_name,\n",
    "    \"age\": customer.age,\n",
    "    \"city\": customer.city,\n",
    "    \"premium\": customer.premium.value\n",
    "    }\n",
    "    for customer in result.customers])\n",
    "\n",
    "output_df"
   ]
  },
  {
   "cell_type": "markdown",
   "metadata": {},
   "source": [
    "### Saving dataframe to csv"
   ]
  },
  {
   "cell_type": "code",
   "execution_count": 8,
   "metadata": {},
   "outputs": [],
   "source": [
    "output_df.to_csv(f\"D:/Bureau/progstuff/ai_data_cleaning/customers_cleaned.csv\",index=False,header=True)"
   ]
  },
  {
   "cell_type": "markdown",
   "metadata": {},
   "source": [
    "# Testing success rate\n",
    "\n",
    "This section was used to ensure the function returned a correct output consistently"
   ]
  },
  {
   "cell_type": "markdown",
   "metadata": {},
   "source": [
    "### Building target dataframe"
   ]
  },
  {
   "cell_type": "code",
   "execution_count": null,
   "metadata": {},
   "outputs": [],
   "source": [
    "# Target dataframe that the output dataframe is tested against\n",
    "target_df = pd.DataFrame({\n",
    "    \"first_name\": [\"Ernesto\", \"Maria\", \"Han\", \"Hilary\", \"Theodora\"] ,\n",
    "    \"last_name\": [\"Sosa\", \"Law\", \"Goodwill\", \"Powell\", \"Gilmore\"],\n",
    "    \"age\": [24, 42, 68, 52, 36] ,\n",
    "    \"city\": [\"San Jose\", \"Seattle\", \"Miami\", \"Santa Monica\", \"Paris\"] ,\n",
    "    \"premium\": [0, 0, 1, 0, 1] \n",
    "    })\n",
    "\n",
    "target_df"
   ]
  },
  {
   "cell_type": "markdown",
   "metadata": {},
   "source": [
    "### Running tests"
   ]
  },
  {
   "cell_type": "code",
   "execution_count": 302,
   "metadata": {},
   "outputs": [
    {
     "data": {
      "text/plain": [
       "['Pass',\n",
       " 'Pass',\n",
       " 'Pass',\n",
       " 'Pass',\n",
       " 'Pass',\n",
       " 'Pass',\n",
       " 'Pass',\n",
       " 'Pass',\n",
       " 'Pass',\n",
       " 'Pass']"
      ]
     },
     "execution_count": 302,
     "metadata": {},
     "output_type": "execute_result"
    },
    {
     "data": {
      "text/html": [
       "<div>\n",
       "<style scoped>\n",
       "    .dataframe tbody tr th:only-of-type {\n",
       "        vertical-align: middle;\n",
       "    }\n",
       "\n",
       "    .dataframe tbody tr th {\n",
       "        vertical-align: top;\n",
       "    }\n",
       "\n",
       "    .dataframe thead th {\n",
       "        text-align: right;\n",
       "    }\n",
       "</style>\n",
       "<table border=\"1\" class=\"dataframe\">\n",
       "  <thead>\n",
       "    <tr style=\"text-align: right;\">\n",
       "      <th></th>\n",
       "      <th>first_name</th>\n",
       "      <th>last_name</th>\n",
       "      <th>age</th>\n",
       "      <th>city</th>\n",
       "      <th>premium</th>\n",
       "    </tr>\n",
       "  </thead>\n",
       "  <tbody>\n",
       "    <tr>\n",
       "      <th>0</th>\n",
       "      <td>Ernesto</td>\n",
       "      <td>Sosa</td>\n",
       "      <td>24</td>\n",
       "      <td>San Jose</td>\n",
       "      <td>0</td>\n",
       "    </tr>\n",
       "    <tr>\n",
       "      <th>1</th>\n",
       "      <td>Maria</td>\n",
       "      <td>Law</td>\n",
       "      <td>42</td>\n",
       "      <td>Seattle</td>\n",
       "      <td>0</td>\n",
       "    </tr>\n",
       "    <tr>\n",
       "      <th>2</th>\n",
       "      <td>Han</td>\n",
       "      <td>Goodwill</td>\n",
       "      <td>68</td>\n",
       "      <td>Miami</td>\n",
       "      <td>1</td>\n",
       "    </tr>\n",
       "    <tr>\n",
       "      <th>3</th>\n",
       "      <td>Hilary</td>\n",
       "      <td>Powell</td>\n",
       "      <td>52</td>\n",
       "      <td>Santa Monica</td>\n",
       "      <td>0</td>\n",
       "    </tr>\n",
       "    <tr>\n",
       "      <th>4</th>\n",
       "      <td>Theodora</td>\n",
       "      <td>Gilmore</td>\n",
       "      <td>36</td>\n",
       "      <td>Paris</td>\n",
       "      <td>1</td>\n",
       "    </tr>\n",
       "  </tbody>\n",
       "</table>\n",
       "</div>"
      ],
      "text/plain": [
       "  first_name last_name  age          city  premium\n",
       "0    Ernesto      Sosa   24      San Jose        0\n",
       "1      Maria       Law   42       Seattle        0\n",
       "2        Han  Goodwill   68         Miami        1\n",
       "3     Hilary    Powell   52  Santa Monica        0\n",
       "4   Theodora   Gilmore   36         Paris        1"
      ]
     },
     "execution_count": 302,
     "metadata": {},
     "output_type": "execute_result"
    }
   ],
   "source": [
    "# Tests results are stored in a list as \"Pass\" or \"Fail\"\n",
    "# \"Pass\" : the function returns a dataframe identical to the target dataframe\n",
    "# \"Fail\" : the function returns a dataframe different from the target dataframe\n",
    "test_results = [] \n",
    "test_values = {} # Stores the output values of the tests\n",
    "\n",
    "i = 0\n",
    "n = 10 # Number of tests to run\n",
    "\n",
    "while i < n:\n",
    "    result = cleaning(customers)\n",
    "    test_values[i] = [result]\n",
    "    df = pd.DataFrame([{\n",
    "        \"first_name\": customer.first_name,\n",
    "        \"last_name\": customer.last_name,\n",
    "        \"age\": customer.age,\n",
    "        \"city\": customer.city,\n",
    "        \"premium\": customer.premium.value\n",
    "        }\n",
    "        for customer in result.customers])\n",
    "    \n",
    "    if df.equals(target_df) == True:\n",
    "        test_results.append(\"Pass\")\n",
    "    else:\n",
    "        test_results.append(\"Fail\")\n",
    "    i +=1\n",
    "\n",
    "test_results\n",
    "df"
   ]
  },
  {
   "cell_type": "markdown",
   "metadata": {},
   "source": [
    "### Test results"
   ]
  },
  {
   "cell_type": "code",
   "execution_count": 303,
   "metadata": {},
   "outputs": [
    {
     "name": "stdout",
     "output_type": "stream",
     "text": [
      "Success rate: 100.00% \n",
      "Number of tests: 10\n"
     ]
    }
   ],
   "source": [
    "print(f\"Success rate: {test_results.count('Pass') / len(test_results) * 100:.2f}% \\nNumber of tests: {n}\")"
   ]
  }
 ],
 "metadata": {
  "kernelspec": {
   "display_name": "Python 3",
   "language": "python",
   "name": "python3"
  },
  "language_info": {
   "codemirror_mode": {
    "name": "ipython",
    "version": 3
   },
   "file_extension": ".py",
   "mimetype": "text/x-python",
   "name": "python",
   "nbconvert_exporter": "python",
   "pygments_lexer": "ipython3",
   "version": "3.11.9"
  }
 },
 "nbformat": 4,
 "nbformat_minor": 2
}
